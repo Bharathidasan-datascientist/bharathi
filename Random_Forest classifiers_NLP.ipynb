{
 "cells": [
  {
   "cell_type": "code",
   "execution_count": 129,
   "id": "4a6d6578",
   "metadata": {},
   "outputs": [],
   "source": [
    "import pandas as pd\n",
    "import numpy as np\n",
    "import matplotlib.pyplot as plt\n",
    "import nltk\n",
    "import string\n",
    "import re\n",
    "stopwords=nltk.corpus.stopwords.words('english')\n",
    "ps=nltk.PorterStemmer()"
   ]
  },
  {
   "cell_type": "code",
   "execution_count": 130,
   "id": "3eddb22a",
   "metadata": {},
   "outputs": [],
   "source": [
    "#Building Machine Learning Classifiers:Building a basic random forest model"
   ]
  },
  {
   "cell_type": "code",
   "execution_count": 131,
   "id": "2c26dcc8",
   "metadata": {},
   "outputs": [],
   "source": [
    "data=pd.read_csv(\"SMSSpamCollection.tsv\",sep='\\t',header=None)"
   ]
  },
  {
   "cell_type": "code",
   "execution_count": 132,
   "id": "3bf45833",
   "metadata": {},
   "outputs": [],
   "source": [
    "data.columns=[\"label\",\"body\"]"
   ]
  },
  {
   "cell_type": "code",
   "execution_count": 133,
   "id": "d3f34db7",
   "metadata": {},
   "outputs": [
    {
     "data": {
      "text/plain": [
       "'!\"#$%&\\'()*+,-./:;<=>?@[\\\\]^_`{|}~'"
      ]
     },
     "execution_count": 133,
     "metadata": {},
     "output_type": "execute_result"
    }
   ],
   "source": [
    "data.head()\n",
    "string.punctuation"
   ]
  },
  {
   "cell_type": "code",
   "execution_count": 134,
   "id": "45463fc3",
   "metadata": {},
   "outputs": [],
   "source": [
    "# Remvoing Punctuations\n",
    "#Removing stopwords\n",
    "#Tokenization\n",
    "#Stemming"
   ]
  },
  {
   "cell_type": "code",
   "execution_count": 135,
   "id": "4dc8d503",
   "metadata": {},
   "outputs": [],
   "source": [
    "def clean_data(text):\n",
    "    words=\"\".join([char for char in text if char not in string.punctuation])\n",
    "    tokenize=re.split('W+',words)\n",
    "    clean=\" \".join([ps.stem(word) for word in tokenize if word not in stopwords])\n",
    "    return clean"
   ]
  },
  {
   "cell_type": "code",
   "execution_count": 136,
   "id": "ca946c35",
   "metadata": {},
   "outputs": [],
   "source": [
    "data[\"clean\"]=data[\"body\"].apply(lambda x:clean_data(x))"
   ]
  },
  {
   "cell_type": "code",
   "execution_count": 137,
   "id": "6d9643c5",
   "metadata": {},
   "outputs": [
    {
     "data": {
      "text/html": [
       "<div>\n",
       "<style scoped>\n",
       "    .dataframe tbody tr th:only-of-type {\n",
       "        vertical-align: middle;\n",
       "    }\n",
       "\n",
       "    .dataframe tbody tr th {\n",
       "        vertical-align: top;\n",
       "    }\n",
       "\n",
       "    .dataframe thead th {\n",
       "        text-align: right;\n",
       "    }\n",
       "</style>\n",
       "<table border=\"1\" class=\"dataframe\">\n",
       "  <thead>\n",
       "    <tr style=\"text-align: right;\">\n",
       "      <th></th>\n",
       "      <th>label</th>\n",
       "      <th>body</th>\n",
       "      <th>clean</th>\n",
       "    </tr>\n",
       "  </thead>\n",
       "  <tbody>\n",
       "    <tr>\n",
       "      <th>0</th>\n",
       "      <td>ham</td>\n",
       "      <td>I've been searching for the right words to tha...</td>\n",
       "      <td>ive been searching for the right words to than...</td>\n",
       "    </tr>\n",
       "    <tr>\n",
       "      <th>1</th>\n",
       "      <td>spam</td>\n",
       "      <td>Free entry in 2 a wkly comp to win FA Cup fina...</td>\n",
       "      <td>free entry in 2 a wkly comp to win fa cup fina...</td>\n",
       "    </tr>\n",
       "    <tr>\n",
       "      <th>2</th>\n",
       "      <td>ham</td>\n",
       "      <td>Nah I don't think he goes to usf, he lives aro...</td>\n",
       "      <td>nah i dont think he goes to usf he lives aroun...</td>\n",
       "    </tr>\n",
       "    <tr>\n",
       "      <th>3</th>\n",
       "      <td>ham</td>\n",
       "      <td>Even my brother is not like to speak with me. ...</td>\n",
       "      <td>even my brother is not like to speak with me t...</td>\n",
       "    </tr>\n",
       "    <tr>\n",
       "      <th>4</th>\n",
       "      <td>ham</td>\n",
       "      <td>I HAVE A DATE ON SUNDAY WITH WILL!!</td>\n",
       "      <td>i have a date on sunday  ith  ill</td>\n",
       "    </tr>\n",
       "  </tbody>\n",
       "</table>\n",
       "</div>"
      ],
      "text/plain": [
       "  label                                               body  \\\n",
       "0   ham  I've been searching for the right words to tha...   \n",
       "1  spam  Free entry in 2 a wkly comp to win FA Cup fina...   \n",
       "2   ham  Nah I don't think he goes to usf, he lives aro...   \n",
       "3   ham  Even my brother is not like to speak with me. ...   \n",
       "4   ham                I HAVE A DATE ON SUNDAY WITH WILL!!   \n",
       "\n",
       "                                               clean  \n",
       "0  ive been searching for the right words to than...  \n",
       "1  free entry in 2 a wkly comp to win fa cup fina...  \n",
       "2  nah i dont think he goes to usf he lives aroun...  \n",
       "3  even my brother is not like to speak with me t...  \n",
       "4                  i have a date on sunday  ith  ill  "
      ]
     },
     "execution_count": 137,
     "metadata": {},
     "output_type": "execute_result"
    }
   ],
   "source": [
    "data.head()"
   ]
  },
  {
   "cell_type": "code",
   "execution_count": 138,
   "id": "4d6537e2",
   "metadata": {},
   "outputs": [],
   "source": [
    "from sklearn.feature_extraction.text import TfidfVectorizer"
   ]
  },
  {
   "cell_type": "code",
   "execution_count": 139,
   "id": "819d60a6",
   "metadata": {},
   "outputs": [],
   "source": [
    "tfidf_vect=TfidfVectorizer(analyzer=clean_data)\n",
    "X_tfidf=tfidf_vect.fit_transform(data[\"body\"])"
   ]
  },
  {
   "cell_type": "code",
   "execution_count": 140,
   "id": "6e982b11",
   "metadata": {},
   "outputs": [],
   "source": [
    "# Length of the feature text"
   ]
  },
  {
   "cell_type": "code",
   "execution_count": 141,
   "id": "7a23a644",
   "metadata": {},
   "outputs": [],
   "source": [
    "def len_feature(text):\n",
    "    count=sum([1 for char in text if char in string.punctuation])\n",
    "    return round(count/(len(text)-text.count(\" \")),3)*100"
   ]
  },
  {
   "cell_type": "code",
   "execution_count": 142,
   "id": "826887d4",
   "metadata": {},
   "outputs": [],
   "source": [
    "data[\"body_len\"]=data[\"body\"].apply(lambda x:len(x) - x.count(\"\"))\n",
    "data[\"pucn_%\"]=data[\"body\"].apply(lambda x:len_feature(x))"
   ]
  },
  {
   "cell_type": "code",
   "execution_count": 143,
   "id": "6edc9b96",
   "metadata": {},
   "outputs": [
    {
     "data": {
      "text/html": [
       "<div>\n",
       "<style scoped>\n",
       "    .dataframe tbody tr th:only-of-type {\n",
       "        vertical-align: middle;\n",
       "    }\n",
       "\n",
       "    .dataframe tbody tr th {\n",
       "        vertical-align: top;\n",
       "    }\n",
       "\n",
       "    .dataframe thead th {\n",
       "        text-align: right;\n",
       "    }\n",
       "</style>\n",
       "<table border=\"1\" class=\"dataframe\">\n",
       "  <thead>\n",
       "    <tr style=\"text-align: right;\">\n",
       "      <th></th>\n",
       "      <th>label</th>\n",
       "      <th>body</th>\n",
       "      <th>clean</th>\n",
       "      <th>body_len</th>\n",
       "      <th>pucn_%</th>\n",
       "    </tr>\n",
       "  </thead>\n",
       "  <tbody>\n",
       "    <tr>\n",
       "      <th>0</th>\n",
       "      <td>ham</td>\n",
       "      <td>I've been searching for the right words to tha...</td>\n",
       "      <td>ive been searching for the right words to than...</td>\n",
       "      <td>-1</td>\n",
       "      <td>2.5</td>\n",
       "    </tr>\n",
       "    <tr>\n",
       "      <th>1</th>\n",
       "      <td>spam</td>\n",
       "      <td>Free entry in 2 a wkly comp to win FA Cup fina...</td>\n",
       "      <td>free entry in 2 a wkly comp to win fa cup fina...</td>\n",
       "      <td>-1</td>\n",
       "      <td>4.7</td>\n",
       "    </tr>\n",
       "    <tr>\n",
       "      <th>2</th>\n",
       "      <td>ham</td>\n",
       "      <td>Nah I don't think he goes to usf, he lives aro...</td>\n",
       "      <td>nah i dont think he goes to usf he lives aroun...</td>\n",
       "      <td>-1</td>\n",
       "      <td>4.1</td>\n",
       "    </tr>\n",
       "    <tr>\n",
       "      <th>3</th>\n",
       "      <td>ham</td>\n",
       "      <td>Even my brother is not like to speak with me. ...</td>\n",
       "      <td>even my brother is not like to speak with me t...</td>\n",
       "      <td>-1</td>\n",
       "      <td>3.2</td>\n",
       "    </tr>\n",
       "    <tr>\n",
       "      <th>4</th>\n",
       "      <td>ham</td>\n",
       "      <td>I HAVE A DATE ON SUNDAY WITH WILL!!</td>\n",
       "      <td>i have a date on sunday  ith  ill</td>\n",
       "      <td>-1</td>\n",
       "      <td>7.1</td>\n",
       "    </tr>\n",
       "  </tbody>\n",
       "</table>\n",
       "</div>"
      ],
      "text/plain": [
       "  label                                               body  \\\n",
       "0   ham  I've been searching for the right words to tha...   \n",
       "1  spam  Free entry in 2 a wkly comp to win FA Cup fina...   \n",
       "2   ham  Nah I don't think he goes to usf, he lives aro...   \n",
       "3   ham  Even my brother is not like to speak with me. ...   \n",
       "4   ham                I HAVE A DATE ON SUNDAY WITH WILL!!   \n",
       "\n",
       "                                               clean  body_len  pucn_%  \n",
       "0  ive been searching for the right words to than...        -1     2.5  \n",
       "1  free entry in 2 a wkly comp to win fa cup fina...        -1     4.7  \n",
       "2  nah i dont think he goes to usf he lives aroun...        -1     4.1  \n",
       "3  even my brother is not like to speak with me t...        -1     3.2  \n",
       "4                  i have a date on sunday  ith  ill        -1     7.1  "
      ]
     },
     "execution_count": 143,
     "metadata": {},
     "output_type": "execute_result"
    }
   ],
   "source": [
    "data.head()"
   ]
  },
  {
   "cell_type": "code",
   "execution_count": null,
   "id": "bb51094f",
   "metadata": {},
   "outputs": [],
   "source": [
    "\n"
   ]
  },
  {
   "cell_type": "code",
   "execution_count": 144,
   "id": "ad26597b",
   "metadata": {},
   "outputs": [
    {
     "name": "stdout",
     "output_type": "stream",
     "text": [
      "<class 'pandas.core.frame.DataFrame'>\n",
      "RangeIndex: 5568 entries, 0 to 5567\n",
      "Data columns (total 62 columns):\n",
      " #   Column    Non-Null Count  Dtype  \n",
      "---  ------    --------------  -----  \n",
      " 0   pucn_%    5568 non-null   float64\n",
      " 1   review0   5568 non-null   float64\n",
      " 2   review1   5568 non-null   float64\n",
      " 3   review2   5568 non-null   float64\n",
      " 4   review3   5568 non-null   float64\n",
      " 5   review4   5568 non-null   float64\n",
      " 6   review5   5568 non-null   float64\n",
      " 7   review6   5568 non-null   float64\n",
      " 8   review7   5568 non-null   float64\n",
      " 9   review8   5568 non-null   float64\n",
      " 10  review9   5568 non-null   float64\n",
      " 11  review10  5568 non-null   float64\n",
      " 12  review11  5568 non-null   float64\n",
      " 13  review12  5568 non-null   float64\n",
      " 14  review13  5568 non-null   float64\n",
      " 15  review14  5568 non-null   float64\n",
      " 16  review15  5568 non-null   float64\n",
      " 17  review16  5568 non-null   float64\n",
      " 18  review17  5568 non-null   float64\n",
      " 19  review18  5568 non-null   float64\n",
      " 20  review19  5568 non-null   float64\n",
      " 21  review20  5568 non-null   float64\n",
      " 22  review21  5568 non-null   float64\n",
      " 23  review22  5568 non-null   float64\n",
      " 24  review23  5568 non-null   float64\n",
      " 25  review24  5568 non-null   float64\n",
      " 26  review25  5568 non-null   float64\n",
      " 27  review26  5568 non-null   float64\n",
      " 28  review27  5568 non-null   float64\n",
      " 29  review28  5568 non-null   float64\n",
      " 30  review29  5568 non-null   float64\n",
      " 31  review30  5568 non-null   float64\n",
      " 32  review31  5568 non-null   float64\n",
      " 33  review32  5568 non-null   float64\n",
      " 34  review33  5568 non-null   float64\n",
      " 35  review34  5568 non-null   float64\n",
      " 36  review35  5568 non-null   float64\n",
      " 37  review36  5568 non-null   float64\n",
      " 38  review37  5568 non-null   float64\n",
      " 39  review38  5568 non-null   float64\n",
      " 40  review39  5568 non-null   float64\n",
      " 41  review40  5568 non-null   float64\n",
      " 42  review41  5568 non-null   float64\n",
      " 43  review42  5568 non-null   float64\n",
      " 44  review43  5568 non-null   float64\n",
      " 45  review44  5568 non-null   float64\n",
      " 46  review45  5568 non-null   float64\n",
      " 47  review46  5568 non-null   float64\n",
      " 48  review47  5568 non-null   float64\n",
      " 49  review48  5568 non-null   float64\n",
      " 50  review49  5568 non-null   float64\n",
      " 51  review50  5568 non-null   float64\n",
      " 52  review51  5568 non-null   float64\n",
      " 53  review52  5568 non-null   float64\n",
      " 54  review53  5568 non-null   float64\n",
      " 55  review54  5568 non-null   float64\n",
      " 56  review55  5568 non-null   float64\n",
      " 57  review56  5568 non-null   float64\n",
      " 58  review57  5568 non-null   float64\n",
      " 59  review58  5568 non-null   float64\n",
      " 60  review59  5568 non-null   float64\n",
      " 61  review60  5568 non-null   float64\n",
      "dtypes: float64(62)\n",
      "memory usage: 2.6 MB\n"
     ]
    }
   ],
   "source": [
    "X_features.head()\n",
    "X_features.info()"
   ]
  },
  {
   "cell_type": "code",
   "execution_count": 145,
   "id": "f7253afc",
   "metadata": {},
   "outputs": [],
   "source": [
    "#Explore RandomForest Classifier Attributes and Hyperparameters"
   ]
  },
  {
   "cell_type": "code",
   "execution_count": 146,
   "id": "94ef86f2",
   "metadata": {},
   "outputs": [],
   "source": [
    "from sklearn.ensemble import RandomForestClassifier"
   ]
  },
  {
   "cell_type": "code",
   "execution_count": 147,
   "id": "70d8d984",
   "metadata": {},
   "outputs": [
    {
     "name": "stdout",
     "output_type": "stream",
     "text": [
      "['__abstractmethods__', '__annotations__', '__class__', '__delattr__', '__dict__', '__dir__', '__doc__', '__eq__', '__format__', '__ge__', '__getattribute__', '__getitem__', '__getstate__', '__gt__', '__hash__', '__init__', '__init_subclass__', '__iter__', '__le__', '__len__', '__lt__', '__module__', '__ne__', '__new__', '__reduce__', '__reduce_ex__', '__repr__', '__setattr__', '__setstate__', '__sizeof__', '__sklearn_clone__', '__str__', '__subclasshook__', '__weakref__', '_abc_impl', '_build_request_for_signature', '_check_feature_names', '_check_n_features', '_compute_oob_predictions', '_estimator_type', '_get_default_requests', '_get_metadata_request', '_get_oob_predictions', '_get_param_names', '_get_tags', '_make_estimator', '_more_tags', '_parameter_constraints', '_repr_html_', '_repr_html_inner', '_repr_mimebundle_', '_required_parameters', '_set_oob_score_and_attributes', '_validate_X_predict', '_validate_data', '_validate_estimator', '_validate_params', '_validate_y_class_weight', 'apply', 'base_estimator_', 'decision_path', 'feature_importances_', 'fit', 'get_metadata_routing', 'get_params', 'predict', 'predict_log_proba', 'predict_proba', 'score', 'set_fit_request', 'set_params', 'set_score_request']\n",
      "RandomForestClassifier()\n"
     ]
    }
   ],
   "source": [
    "print(dir(RandomForestClassifier))\n",
    "print(RandomForestClassifier())"
   ]
  },
  {
   "cell_type": "code",
   "execution_count": 148,
   "id": "fb2cd7ab",
   "metadata": {},
   "outputs": [
    {
     "name": "stdout",
     "output_type": "stream",
     "text": [
      "RandomForestClassifier()\n"
     ]
    }
   ],
   "source": [
    "print(RandomForestClassifier())"
   ]
  },
  {
   "cell_type": "code",
   "execution_count": 149,
   "id": "6e30b5c8",
   "metadata": {},
   "outputs": [
    {
     "name": "stdout",
     "output_type": "stream",
     "text": [
      "['__abstractmethods__', '__annotations__', '__class__', '__delattr__', '__dict__', '__dir__', '__doc__', '__eq__', '__format__', '__ge__', '__getattribute__', '__getitem__', '__getstate__', '__gt__', '__hash__', '__init__', '__init_subclass__', '__iter__', '__le__', '__len__', '__lt__', '__module__', '__ne__', '__new__', '__reduce__', '__reduce_ex__', '__repr__', '__setattr__', '__setstate__', '__sizeof__', '__sklearn_clone__', '__str__', '__subclasshook__', '__weakref__', '_abc_impl', '_build_request_for_signature', '_check_feature_names', '_check_n_features', '_compute_oob_predictions', '_estimator_type', '_get_default_requests', '_get_metadata_request', '_get_oob_predictions', '_get_param_names', '_get_tags', '_make_estimator', '_more_tags', '_parameter_constraints', '_repr_html_', '_repr_html_inner', '_repr_mimebundle_', '_required_parameters', '_set_oob_score_and_attributes', '_validate_X_predict', '_validate_data', '_validate_estimator', '_validate_params', '_validate_y_class_weight', 'apply', 'base_estimator_', 'decision_path', 'feature_importances_', 'fit', 'get_metadata_routing', 'get_params', 'predict', 'predict_log_proba', 'predict_proba', 'score', 'set_fit_request', 'set_params', 'set_score_request']\n"
     ]
    }
   ],
   "source": [
    "print(dir(RandomForestClassifier))"
   ]
  },
  {
   "cell_type": "code",
   "execution_count": 150,
   "id": "8cdcb333",
   "metadata": {},
   "outputs": [],
   "source": [
    "#Explore RandomForestClassifier through Cross Validation"
   ]
  },
  {
   "cell_type": "code",
   "execution_count": 151,
   "id": "ffc2c251",
   "metadata": {},
   "outputs": [],
   "source": [
    "from sklearn.model_selection import KFold,cross_val_score"
   ]
  },
  {
   "cell_type": "code",
   "execution_count": 152,
   "id": "1124fe77",
   "metadata": {},
   "outputs": [
    {
     "data": {
      "text/plain": [
       "array([0.97666068, 0.98114901, 0.97755835, 0.97843666, 0.97933513])"
      ]
     },
     "execution_count": 152,
     "metadata": {},
     "output_type": "execute_result"
    }
   ],
   "source": [
    "rf=RandomForestClassifier(n_jobs=-1)\n",
    "k_fold=KFold(n_splits=5)\n",
    "cross_val_score(rf,X_features,data[\"label\"],cv=k_fold,scoring='accuracy',n_jobs=-1)"
   ]
  },
  {
   "cell_type": "code",
   "execution_count": 153,
   "id": "781cca38",
   "metadata": {},
   "outputs": [
    {
     "data": {
      "text/html": [
       "<div>\n",
       "<style scoped>\n",
       "    .dataframe tbody tr th:only-of-type {\n",
       "        vertical-align: middle;\n",
       "    }\n",
       "\n",
       "    .dataframe tbody tr th {\n",
       "        vertical-align: top;\n",
       "    }\n",
       "\n",
       "    .dataframe thead th {\n",
       "        text-align: right;\n",
       "    }\n",
       "</style>\n",
       "<table border=\"1\" class=\"dataframe\">\n",
       "  <thead>\n",
       "    <tr style=\"text-align: right;\">\n",
       "      <th></th>\n",
       "      <th>pucn_%</th>\n",
       "      <th>review0</th>\n",
       "      <th>review1</th>\n",
       "      <th>review2</th>\n",
       "      <th>review3</th>\n",
       "      <th>review4</th>\n",
       "      <th>review5</th>\n",
       "      <th>review6</th>\n",
       "      <th>review7</th>\n",
       "      <th>review8</th>\n",
       "      <th>...</th>\n",
       "      <th>review51</th>\n",
       "      <th>review52</th>\n",
       "      <th>review53</th>\n",
       "      <th>review54</th>\n",
       "      <th>review55</th>\n",
       "      <th>review56</th>\n",
       "      <th>review57</th>\n",
       "      <th>review58</th>\n",
       "      <th>review59</th>\n",
       "      <th>review60</th>\n",
       "    </tr>\n",
       "  </thead>\n",
       "  <tbody>\n",
       "    <tr>\n",
       "      <th>0</th>\n",
       "      <td>2.5</td>\n",
       "      <td>0.0</td>\n",
       "      <td>0.0</td>\n",
       "      <td>0.636458</td>\n",
       "      <td>0.000000</td>\n",
       "      <td>0.000000</td>\n",
       "      <td>0.000000</td>\n",
       "      <td>0.0</td>\n",
       "      <td>0.000000</td>\n",
       "      <td>0.000000</td>\n",
       "      <td>...</td>\n",
       "      <td>0.0</td>\n",
       "      <td>0.0</td>\n",
       "      <td>0.0</td>\n",
       "      <td>0.0</td>\n",
       "      <td>0.0</td>\n",
       "      <td>0.0</td>\n",
       "      <td>0.0</td>\n",
       "      <td>0.0</td>\n",
       "      <td>0.0</td>\n",
       "      <td>0.0</td>\n",
       "    </tr>\n",
       "    <tr>\n",
       "      <th>1</th>\n",
       "      <td>4.7</td>\n",
       "      <td>0.0</td>\n",
       "      <td>0.0</td>\n",
       "      <td>0.527478</td>\n",
       "      <td>0.297254</td>\n",
       "      <td>0.294815</td>\n",
       "      <td>0.275358</td>\n",
       "      <td>0.0</td>\n",
       "      <td>0.060552</td>\n",
       "      <td>0.187905</td>\n",
       "      <td>...</td>\n",
       "      <td>0.0</td>\n",
       "      <td>0.0</td>\n",
       "      <td>0.0</td>\n",
       "      <td>0.0</td>\n",
       "      <td>0.0</td>\n",
       "      <td>0.0</td>\n",
       "      <td>0.0</td>\n",
       "      <td>0.0</td>\n",
       "      <td>0.0</td>\n",
       "      <td>0.0</td>\n",
       "    </tr>\n",
       "    <tr>\n",
       "      <th>2</th>\n",
       "      <td>4.1</td>\n",
       "      <td>0.0</td>\n",
       "      <td>0.0</td>\n",
       "      <td>0.613328</td>\n",
       "      <td>0.000000</td>\n",
       "      <td>0.000000</td>\n",
       "      <td>0.000000</td>\n",
       "      <td>0.0</td>\n",
       "      <td>0.000000</td>\n",
       "      <td>0.000000</td>\n",
       "      <td>...</td>\n",
       "      <td>0.0</td>\n",
       "      <td>0.0</td>\n",
       "      <td>0.0</td>\n",
       "      <td>0.0</td>\n",
       "      <td>0.0</td>\n",
       "      <td>0.0</td>\n",
       "      <td>0.0</td>\n",
       "      <td>0.0</td>\n",
       "      <td>0.0</td>\n",
       "      <td>0.0</td>\n",
       "    </tr>\n",
       "    <tr>\n",
       "      <th>3</th>\n",
       "      <td>3.2</td>\n",
       "      <td>0.0</td>\n",
       "      <td>0.0</td>\n",
       "      <td>0.624581</td>\n",
       "      <td>0.000000</td>\n",
       "      <td>0.000000</td>\n",
       "      <td>0.000000</td>\n",
       "      <td>0.0</td>\n",
       "      <td>0.000000</td>\n",
       "      <td>0.000000</td>\n",
       "      <td>...</td>\n",
       "      <td>0.0</td>\n",
       "      <td>0.0</td>\n",
       "      <td>0.0</td>\n",
       "      <td>0.0</td>\n",
       "      <td>0.0</td>\n",
       "      <td>0.0</td>\n",
       "      <td>0.0</td>\n",
       "      <td>0.0</td>\n",
       "      <td>0.0</td>\n",
       "      <td>0.0</td>\n",
       "    </tr>\n",
       "    <tr>\n",
       "      <th>4</th>\n",
       "      <td>7.1</td>\n",
       "      <td>0.0</td>\n",
       "      <td>0.0</td>\n",
       "      <td>0.735239</td>\n",
       "      <td>0.000000</td>\n",
       "      <td>0.000000</td>\n",
       "      <td>0.000000</td>\n",
       "      <td>0.0</td>\n",
       "      <td>0.000000</td>\n",
       "      <td>0.000000</td>\n",
       "      <td>...</td>\n",
       "      <td>0.0</td>\n",
       "      <td>0.0</td>\n",
       "      <td>0.0</td>\n",
       "      <td>0.0</td>\n",
       "      <td>0.0</td>\n",
       "      <td>0.0</td>\n",
       "      <td>0.0</td>\n",
       "      <td>0.0</td>\n",
       "      <td>0.0</td>\n",
       "      <td>0.0</td>\n",
       "    </tr>\n",
       "  </tbody>\n",
       "</table>\n",
       "<p>5 rows × 62 columns</p>\n",
       "</div>"
      ],
      "text/plain": [
       "   pucn_%  review0  review1   review2   review3   review4   review5  review6  \\\n",
       "0     2.5      0.0      0.0  0.636458  0.000000  0.000000  0.000000      0.0   \n",
       "1     4.7      0.0      0.0  0.527478  0.297254  0.294815  0.275358      0.0   \n",
       "2     4.1      0.0      0.0  0.613328  0.000000  0.000000  0.000000      0.0   \n",
       "3     3.2      0.0      0.0  0.624581  0.000000  0.000000  0.000000      0.0   \n",
       "4     7.1      0.0      0.0  0.735239  0.000000  0.000000  0.000000      0.0   \n",
       "\n",
       "    review7   review8  ...  review51  review52  review53  review54  review55  \\\n",
       "0  0.000000  0.000000  ...       0.0       0.0       0.0       0.0       0.0   \n",
       "1  0.060552  0.187905  ...       0.0       0.0       0.0       0.0       0.0   \n",
       "2  0.000000  0.000000  ...       0.0       0.0       0.0       0.0       0.0   \n",
       "3  0.000000  0.000000  ...       0.0       0.0       0.0       0.0       0.0   \n",
       "4  0.000000  0.000000  ...       0.0       0.0       0.0       0.0       0.0   \n",
       "\n",
       "   review56  review57  review58  review59  review60  \n",
       "0       0.0       0.0       0.0       0.0       0.0  \n",
       "1       0.0       0.0       0.0       0.0       0.0  \n",
       "2       0.0       0.0       0.0       0.0       0.0  \n",
       "3       0.0       0.0       0.0       0.0       0.0  \n",
       "4       0.0       0.0       0.0       0.0       0.0  \n",
       "\n",
       "[5 rows x 62 columns]"
      ]
     },
     "execution_count": 153,
     "metadata": {},
     "output_type": "execute_result"
    }
   ],
   "source": [
    "X_features.head()"
   ]
  },
  {
   "cell_type": "code",
   "execution_count": 154,
   "id": "7d6debc8",
   "metadata": {},
   "outputs": [
    {
     "name": "stdout",
     "output_type": "stream",
     "text": [
      "<class 'pandas.core.frame.DataFrame'>\n",
      "RangeIndex: 5568 entries, 0 to 5567\n",
      "Data columns (total 62 columns):\n",
      " #   Column    Non-Null Count  Dtype  \n",
      "---  ------    --------------  -----  \n",
      " 0   pucn_%    5568 non-null   float64\n",
      " 1   review0   5568 non-null   float64\n",
      " 2   review1   5568 non-null   float64\n",
      " 3   review2   5568 non-null   float64\n",
      " 4   review3   5568 non-null   float64\n",
      " 5   review4   5568 non-null   float64\n",
      " 6   review5   5568 non-null   float64\n",
      " 7   review6   5568 non-null   float64\n",
      " 8   review7   5568 non-null   float64\n",
      " 9   review8   5568 non-null   float64\n",
      " 10  review9   5568 non-null   float64\n",
      " 11  review10  5568 non-null   float64\n",
      " 12  review11  5568 non-null   float64\n",
      " 13  review12  5568 non-null   float64\n",
      " 14  review13  5568 non-null   float64\n",
      " 15  review14  5568 non-null   float64\n",
      " 16  review15  5568 non-null   float64\n",
      " 17  review16  5568 non-null   float64\n",
      " 18  review17  5568 non-null   float64\n",
      " 19  review18  5568 non-null   float64\n",
      " 20  review19  5568 non-null   float64\n",
      " 21  review20  5568 non-null   float64\n",
      " 22  review21  5568 non-null   float64\n",
      " 23  review22  5568 non-null   float64\n",
      " 24  review23  5568 non-null   float64\n",
      " 25  review24  5568 non-null   float64\n",
      " 26  review25  5568 non-null   float64\n",
      " 27  review26  5568 non-null   float64\n",
      " 28  review27  5568 non-null   float64\n",
      " 29  review28  5568 non-null   float64\n",
      " 30  review29  5568 non-null   float64\n",
      " 31  review30  5568 non-null   float64\n",
      " 32  review31  5568 non-null   float64\n",
      " 33  review32  5568 non-null   float64\n",
      " 34  review33  5568 non-null   float64\n",
      " 35  review34  5568 non-null   float64\n",
      " 36  review35  5568 non-null   float64\n",
      " 37  review36  5568 non-null   float64\n",
      " 38  review37  5568 non-null   float64\n",
      " 39  review38  5568 non-null   float64\n",
      " 40  review39  5568 non-null   float64\n",
      " 41  review40  5568 non-null   float64\n",
      " 42  review41  5568 non-null   float64\n",
      " 43  review42  5568 non-null   float64\n",
      " 44  review43  5568 non-null   float64\n",
      " 45  review44  5568 non-null   float64\n",
      " 46  review45  5568 non-null   float64\n",
      " 47  review46  5568 non-null   float64\n",
      " 48  review47  5568 non-null   float64\n",
      " 49  review48  5568 non-null   float64\n",
      " 50  review49  5568 non-null   float64\n",
      " 51  review50  5568 non-null   float64\n",
      " 52  review51  5568 non-null   float64\n",
      " 53  review52  5568 non-null   float64\n",
      " 54  review53  5568 non-null   float64\n",
      " 55  review54  5568 non-null   float64\n",
      " 56  review55  5568 non-null   float64\n",
      " 57  review56  5568 non-null   float64\n",
      " 58  review57  5568 non-null   float64\n",
      " 59  review58  5568 non-null   float64\n",
      " 60  review59  5568 non-null   float64\n",
      " 61  review60  5568 non-null   float64\n",
      "dtypes: float64(62)\n",
      "memory usage: 2.6 MB\n"
     ]
    }
   ],
   "source": [
    "X_features.info()"
   ]
  },
  {
   "cell_type": "code",
   "execution_count": 155,
   "id": "9e1ce600",
   "metadata": {},
   "outputs": [],
   "source": [
    "data[\"body_len\"].astype(float)\n",
    "X_features=pd.concat([data[\"pucn_%\"],pd.DataFrame(X_tfidf.toarray()).add_prefix('review')],axis=1)"
   ]
  },
  {
   "cell_type": "code",
   "execution_count": 156,
   "id": "96e590eb",
   "metadata": {},
   "outputs": [
    {
     "name": "stdout",
     "output_type": "stream",
     "text": [
      "<class 'pandas.core.frame.DataFrame'>\n",
      "RangeIndex: 5568 entries, 0 to 5567\n",
      "Data columns (total 62 columns):\n",
      " #   Column    Non-Null Count  Dtype  \n",
      "---  ------    --------------  -----  \n",
      " 0   pucn_%    5568 non-null   float64\n",
      " 1   review0   5568 non-null   float64\n",
      " 2   review1   5568 non-null   float64\n",
      " 3   review2   5568 non-null   float64\n",
      " 4   review3   5568 non-null   float64\n",
      " 5   review4   5568 non-null   float64\n",
      " 6   review5   5568 non-null   float64\n",
      " 7   review6   5568 non-null   float64\n",
      " 8   review7   5568 non-null   float64\n",
      " 9   review8   5568 non-null   float64\n",
      " 10  review9   5568 non-null   float64\n",
      " 11  review10  5568 non-null   float64\n",
      " 12  review11  5568 non-null   float64\n",
      " 13  review12  5568 non-null   float64\n",
      " 14  review13  5568 non-null   float64\n",
      " 15  review14  5568 non-null   float64\n",
      " 16  review15  5568 non-null   float64\n",
      " 17  review16  5568 non-null   float64\n",
      " 18  review17  5568 non-null   float64\n",
      " 19  review18  5568 non-null   float64\n",
      " 20  review19  5568 non-null   float64\n",
      " 21  review20  5568 non-null   float64\n",
      " 22  review21  5568 non-null   float64\n",
      " 23  review22  5568 non-null   float64\n",
      " 24  review23  5568 non-null   float64\n",
      " 25  review24  5568 non-null   float64\n",
      " 26  review25  5568 non-null   float64\n",
      " 27  review26  5568 non-null   float64\n",
      " 28  review27  5568 non-null   float64\n",
      " 29  review28  5568 non-null   float64\n",
      " 30  review29  5568 non-null   float64\n",
      " 31  review30  5568 non-null   float64\n",
      " 32  review31  5568 non-null   float64\n",
      " 33  review32  5568 non-null   float64\n",
      " 34  review33  5568 non-null   float64\n",
      " 35  review34  5568 non-null   float64\n",
      " 36  review35  5568 non-null   float64\n",
      " 37  review36  5568 non-null   float64\n",
      " 38  review37  5568 non-null   float64\n",
      " 39  review38  5568 non-null   float64\n",
      " 40  review39  5568 non-null   float64\n",
      " 41  review40  5568 non-null   float64\n",
      " 42  review41  5568 non-null   float64\n",
      " 43  review42  5568 non-null   float64\n",
      " 44  review43  5568 non-null   float64\n",
      " 45  review44  5568 non-null   float64\n",
      " 46  review45  5568 non-null   float64\n",
      " 47  review46  5568 non-null   float64\n",
      " 48  review47  5568 non-null   float64\n",
      " 49  review48  5568 non-null   float64\n",
      " 50  review49  5568 non-null   float64\n",
      " 51  review50  5568 non-null   float64\n",
      " 52  review51  5568 non-null   float64\n",
      " 53  review52  5568 non-null   float64\n",
      " 54  review53  5568 non-null   float64\n",
      " 55  review54  5568 non-null   float64\n",
      " 56  review55  5568 non-null   float64\n",
      " 57  review56  5568 non-null   float64\n",
      " 58  review57  5568 non-null   float64\n",
      " 59  review58  5568 non-null   float64\n",
      " 60  review59  5568 non-null   float64\n",
      " 61  review60  5568 non-null   float64\n",
      "dtypes: float64(62)\n",
      "memory usage: 2.6 MB\n"
     ]
    }
   ],
   "source": [
    "X_features.info()"
   ]
  },
  {
   "cell_type": "code",
   "execution_count": 157,
   "id": "c964627c",
   "metadata": {
    "scrolled": true
   },
   "outputs": [
    {
     "data": {
      "text/plain": [
       "array([0.97666068, 0.98204668, 0.97935368, 0.98113208, 0.98113208])"
      ]
     },
     "execution_count": 157,
     "metadata": {},
     "output_type": "execute_result"
    }
   ],
   "source": [
    "rf=RandomForestClassifier(n_jobs=-1)\n",
    "k_fold=KFold(n_splits=5)\n",
    "cross_val_score(rf,X_features,data[\"label\"],cv=k_fold,scoring='accuracy',n_jobs=-1)"
   ]
  },
  {
   "cell_type": "code",
   "execution_count": 158,
   "id": "20ee8044",
   "metadata": {},
   "outputs": [],
   "source": [
    "#Explore RandomForestClassifier through Holdout set"
   ]
  },
  {
   "cell_type": "code",
   "execution_count": 159,
   "id": "2da87575",
   "metadata": {},
   "outputs": [],
   "source": [
    "from sklearn.metrics import precision_recall_fscore_support as score\n",
    "from sklearn.model_selection import train_test_split"
   ]
  },
  {
   "cell_type": "raw",
   "id": "816c103b",
   "metadata": {},
   "source": [
    "X_train,X_test,y_train,y_test=train_test_split(X_features,data[\"label\"],test_size=0.3,random_state=0)"
   ]
  },
  {
   "cell_type": "code",
   "execution_count": 160,
   "id": "eafac738",
   "metadata": {},
   "outputs": [
    {
     "data": {
      "text/plain": [
       "(3897, 62)"
      ]
     },
     "execution_count": 160,
     "metadata": {},
     "output_type": "execute_result"
    }
   ],
   "source": [
    "X_train.shape"
   ]
  },
  {
   "cell_type": "code",
   "execution_count": 161,
   "id": "9fa5c7e8",
   "metadata": {},
   "outputs": [
    {
     "data": {
      "text/plain": [
       "(1671, 62)"
      ]
     },
     "execution_count": 161,
     "metadata": {},
     "output_type": "execute_result"
    }
   ],
   "source": [
    "X_test.shape"
   ]
  },
  {
   "cell_type": "code",
   "execution_count": 162,
   "id": "b98043a7",
   "metadata": {},
   "outputs": [],
   "source": [
    "from sklearn.ensemble import RandomForestClassifier"
   ]
  },
  {
   "cell_type": "code",
   "execution_count": 163,
   "id": "cb0f256d",
   "metadata": {},
   "outputs": [],
   "source": [
    "rf=RandomForestClassifier(n_estimators=50,max_depth=20,n_jobs=-1)"
   ]
  },
  {
   "cell_type": "code",
   "execution_count": 164,
   "id": "315a8a47",
   "metadata": {},
   "outputs": [],
   "source": [
    "rf_model=rf.fit(X_train,y_train)"
   ]
  },
  {
   "cell_type": "code",
   "execution_count": 165,
   "id": "3c6c17cb",
   "metadata": {},
   "outputs": [
    {
     "data": {
      "text/plain": [
       "[(0.2054760878823416, 'review3'),\n",
       " (0.09951128192126875, 'review4'),\n",
       " (0.09603409926196635, 'review11'),\n",
       " (0.08848838078296337, 'review8'),\n",
       " (0.052008806549917776, 'review6'),\n",
       " (0.05024842244911062, 'review5'),\n",
       " (0.03400322271566667, 'review10'),\n",
       " (0.03078091021173719, 'review45'),\n",
       " (0.030560770823419726, 'review7'),\n",
       " (0.02831498520396673, 'review9')]"
      ]
     },
     "execution_count": 165,
     "metadata": {},
     "output_type": "execute_result"
    }
   ],
   "source": [
    "sorted(zip(rf_model.feature_importances_,X_train.columns),reverse=True)[0:10]"
   ]
  },
  {
   "cell_type": "code",
   "execution_count": 166,
   "id": "b8e369f9",
   "metadata": {},
   "outputs": [],
   "source": [
    "y_pred=rf_model.predict(X_test)"
   ]
  },
  {
   "cell_type": "code",
   "execution_count": 167,
   "id": "8e779582",
   "metadata": {},
   "outputs": [],
   "source": [
    "precision,recall,fscore,support=score(y_test,y_pred,pos_label='spam',average='binary')"
   ]
  },
  {
   "cell_type": "code",
   "execution_count": 168,
   "id": "77b95b2d",
   "metadata": {},
   "outputs": [
    {
     "name": "stdout",
     "output_type": "stream",
     "text": [
      "precision:0.977 / recall:0.885 / fscore:0.9802513464991023\n"
     ]
    }
   ],
   "source": [
    "print('precision:{} / recall:{} / fscore:{}'.format(round(precision,3),round(recall,3),round(y_pred==y_test).sum()/len(y_pred)))"
   ]
  },
  {
   "cell_type": "code",
   "execution_count": 169,
   "id": "783d265b",
   "metadata": {},
   "outputs": [],
   "source": [
    "# Random forest with grid search"
   ]
  },
  {
   "cell_type": "code",
   "execution_count": 170,
   "id": "e2c76de0",
   "metadata": {},
   "outputs": [],
   "source": [
    "from sklearn.ensemble import RandomForestClassifier\n",
    "from sklearn.metrics import precision_recall_fscore_support as score\n",
    "from sklearn.model_selection import train_test_split"
   ]
  },
  {
   "cell_type": "code",
   "execution_count": 171,
   "id": "79edced4",
   "metadata": {},
   "outputs": [],
   "source": [
    "X_train,X_test,y_train,y_test=train_test_split(X_features,data[\"label\"],test_size=0.3,random_state=0)"
   ]
  },
  {
   "cell_type": "code",
   "execution_count": 177,
   "id": "69209544",
   "metadata": {},
   "outputs": [],
   "source": [
    "def train_rf(n_est,depth):\n",
    "    rf=RandomForestClassifier(n_estimators=n_est,max_depth=depth,n_jobs=-1)\n",
    "    rf_model=rf.fit(X_train,y_train)\n",
    "    y_pred=rf_model.predict(X_test)\n",
    "    precision,recall,fscore,support=score(y_test,y_pred,pos_label='spam',average='binary')\n",
    "    print('estimator: {} / depth :{} / ------precision:{} / recall :{} / Accuracy :{}'\n",
    "          .format(n_est,depth,round(precision,3),round(recall,3),round((y_pred==y_test).sum()/len(y_pred),3)))"
   ]
  },
  {
   "cell_type": "code",
   "execution_count": 178,
   "id": "7d4e1595",
   "metadata": {},
   "outputs": [
    {
     "name": "stdout",
     "output_type": "stream",
     "text": [
      "estimator: 10 / depth :10 / ------precision:0.968 / recall :0.86 / Accuracy :0.975\n",
      "estimator: 10 / depth :20 / ------precision:0.981 / recall :0.864 / Accuracy :0.978\n",
      "estimator: 10 / depth :30 / ------precision:0.981 / recall :0.872 / Accuracy :0.979\n",
      "estimator: 10 / depth :None / ------precision:0.985 / recall :0.831 / Accuracy :0.974\n",
      "estimator: 50 / depth :10 / ------precision:0.981 / recall :0.86 / Accuracy :0.977\n",
      "estimator: 50 / depth :20 / ------precision:0.977 / recall :0.881 / Accuracy :0.98\n",
      "estimator: 50 / depth :30 / ------precision:0.981 / recall :0.868 / Accuracy :0.978\n",
      "estimator: 50 / depth :None / ------precision:0.982 / recall :0.881 / Accuracy :0.98\n",
      "estimator: 100 / depth :10 / ------precision:0.973 / recall :0.877 / Accuracy :0.978\n",
      "estimator: 100 / depth :20 / ------precision:0.977 / recall :0.881 / Accuracy :0.98\n",
      "estimator: 100 / depth :30 / ------precision:0.981 / recall :0.872 / Accuracy :0.979\n",
      "estimator: 100 / depth :None / ------precision:0.977 / recall :0.877 / Accuracy :0.979\n"
     ]
    }
   ],
   "source": [
    "for n_est in [10,50,100]:\n",
    "    for depth in [10,20,30,None]:\n",
    "        train_rf(n_est,depth)"
   ]
  },
  {
   "cell_type": "code",
   "execution_count": 182,
   "id": "5543ffb4",
   "metadata": {},
   "outputs": [],
   "source": [
    "# RandomForest  with GridSearchCV\n",
    "from sklearn.model_selection import GridSearchCV"
   ]
  },
  {
   "cell_type": "code",
   "execution_count": 184,
   "id": "416fc03c",
   "metadata": {},
   "outputs": [
    {
     "data": {
      "text/html": [
       "<div>\n",
       "<style scoped>\n",
       "    .dataframe tbody tr th:only-of-type {\n",
       "        vertical-align: middle;\n",
       "    }\n",
       "\n",
       "    .dataframe tbody tr th {\n",
       "        vertical-align: top;\n",
       "    }\n",
       "\n",
       "    .dataframe thead th {\n",
       "        text-align: right;\n",
       "    }\n",
       "</style>\n",
       "<table border=\"1\" class=\"dataframe\">\n",
       "  <thead>\n",
       "    <tr style=\"text-align: right;\">\n",
       "      <th></th>\n",
       "      <th>mean_fit_time</th>\n",
       "      <th>std_fit_time</th>\n",
       "      <th>mean_score_time</th>\n",
       "      <th>std_score_time</th>\n",
       "      <th>param_max_depth</th>\n",
       "      <th>param_n_estimators</th>\n",
       "      <th>params</th>\n",
       "      <th>split0_test_score</th>\n",
       "      <th>split1_test_score</th>\n",
       "      <th>split2_test_score</th>\n",
       "      <th>split3_test_score</th>\n",
       "      <th>split4_test_score</th>\n",
       "      <th>mean_test_score</th>\n",
       "      <th>std_test_score</th>\n",
       "      <th>rank_test_score</th>\n",
       "    </tr>\n",
       "  </thead>\n",
       "  <tbody>\n",
       "    <tr>\n",
       "      <th>1</th>\n",
       "      <td>5.268912</td>\n",
       "      <td>0.150875</td>\n",
       "      <td>0.046386</td>\n",
       "      <td>0.000706</td>\n",
       "      <td>30</td>\n",
       "      <td>150</td>\n",
       "      <td>{'max_depth': 30, 'n_estimators': 150}</td>\n",
       "      <td>0.980251</td>\n",
       "      <td>0.982944</td>\n",
       "      <td>0.979354</td>\n",
       "      <td>0.980234</td>\n",
       "      <td>0.979335</td>\n",
       "      <td>0.980424</td>\n",
       "      <td>0.001323</td>\n",
       "      <td>1</td>\n",
       "    </tr>\n",
       "    <tr>\n",
       "      <th>10</th>\n",
       "      <td>5.666783</td>\n",
       "      <td>0.188748</td>\n",
       "      <td>0.048689</td>\n",
       "      <td>0.002341</td>\n",
       "      <td>None</td>\n",
       "      <td>150</td>\n",
       "      <td>{'max_depth': None, 'n_estimators': 150}</td>\n",
       "      <td>0.977558</td>\n",
       "      <td>0.983842</td>\n",
       "      <td>0.979354</td>\n",
       "      <td>0.980234</td>\n",
       "      <td>0.978437</td>\n",
       "      <td>0.979885</td>\n",
       "      <td>0.002171</td>\n",
       "      <td>2</td>\n",
       "    </tr>\n",
       "    <tr>\n",
       "      <th>11</th>\n",
       "      <td>8.847581</td>\n",
       "      <td>0.801046</td>\n",
       "      <td>0.050864</td>\n",
       "      <td>0.001993</td>\n",
       "      <td>None</td>\n",
       "      <td>300</td>\n",
       "      <td>{'max_depth': None, 'n_estimators': 300}</td>\n",
       "      <td>0.979354</td>\n",
       "      <td>0.982944</td>\n",
       "      <td>0.979354</td>\n",
       "      <td>0.980234</td>\n",
       "      <td>0.977538</td>\n",
       "      <td>0.979885</td>\n",
       "      <td>0.001764</td>\n",
       "      <td>3</td>\n",
       "    </tr>\n",
       "    <tr>\n",
       "      <th>5</th>\n",
       "      <td>10.867625</td>\n",
       "      <td>0.551505</td>\n",
       "      <td>0.092189</td>\n",
       "      <td>0.005604</td>\n",
       "      <td>60</td>\n",
       "      <td>300</td>\n",
       "      <td>{'max_depth': 60, 'n_estimators': 300}</td>\n",
       "      <td>0.979354</td>\n",
       "      <td>0.982047</td>\n",
       "      <td>0.979354</td>\n",
       "      <td>0.980234</td>\n",
       "      <td>0.977538</td>\n",
       "      <td>0.979705</td>\n",
       "      <td>0.001463</td>\n",
       "      <td>4</td>\n",
       "    </tr>\n",
       "    <tr>\n",
       "      <th>8</th>\n",
       "      <td>10.657117</td>\n",
       "      <td>0.376676</td>\n",
       "      <td>0.083619</td>\n",
       "      <td>0.007102</td>\n",
       "      <td>90</td>\n",
       "      <td>300</td>\n",
       "      <td>{'max_depth': 90, 'n_estimators': 300}</td>\n",
       "      <td>0.977558</td>\n",
       "      <td>0.982944</td>\n",
       "      <td>0.979354</td>\n",
       "      <td>0.979335</td>\n",
       "      <td>0.978437</td>\n",
       "      <td>0.979526</td>\n",
       "      <td>0.001834</td>\n",
       "      <td>5</td>\n",
       "    </tr>\n",
       "  </tbody>\n",
       "</table>\n",
       "</div>"
      ],
      "text/plain": [
       "    mean_fit_time  std_fit_time  mean_score_time  std_score_time  \\\n",
       "1        5.268912      0.150875         0.046386        0.000706   \n",
       "10       5.666783      0.188748         0.048689        0.002341   \n",
       "11       8.847581      0.801046         0.050864        0.001993   \n",
       "5       10.867625      0.551505         0.092189        0.005604   \n",
       "8       10.657117      0.376676         0.083619        0.007102   \n",
       "\n",
       "   param_max_depth param_n_estimators  \\\n",
       "1               30                150   \n",
       "10            None                150   \n",
       "11            None                300   \n",
       "5               60                300   \n",
       "8               90                300   \n",
       "\n",
       "                                      params  split0_test_score  \\\n",
       "1     {'max_depth': 30, 'n_estimators': 150}           0.980251   \n",
       "10  {'max_depth': None, 'n_estimators': 150}           0.977558   \n",
       "11  {'max_depth': None, 'n_estimators': 300}           0.979354   \n",
       "5     {'max_depth': 60, 'n_estimators': 300}           0.979354   \n",
       "8     {'max_depth': 90, 'n_estimators': 300}           0.977558   \n",
       "\n",
       "    split1_test_score  split2_test_score  split3_test_score  \\\n",
       "1            0.982944           0.979354           0.980234   \n",
       "10           0.983842           0.979354           0.980234   \n",
       "11           0.982944           0.979354           0.980234   \n",
       "5            0.982047           0.979354           0.980234   \n",
       "8            0.982944           0.979354           0.979335   \n",
       "\n",
       "    split4_test_score  mean_test_score  std_test_score  rank_test_score  \n",
       "1            0.979335         0.980424        0.001323                1  \n",
       "10           0.978437         0.979885        0.002171                2  \n",
       "11           0.977538         0.979885        0.001764                3  \n",
       "5            0.977538         0.979705        0.001463                4  \n",
       "8            0.978437         0.979526        0.001834                5  "
      ]
     },
     "execution_count": 184,
     "metadata": {},
     "output_type": "execute_result"
    }
   ],
   "source": [
    "rf=RandomForestClassifier()\n",
    "param={'n_estimators':[10,150,300],'max_depth':[30,60,90,None]}\n",
    "gs=GridSearchCV(rf,param,cv=5,n_jobs=-1)\n",
    "gs_fit=gs.fit(X_features,data['label'])\n",
    "pd.DataFrame(gs_fit.cv_results_).sort_values('mean_test_score',ascending=False)[0:5]"
   ]
  },
  {
   "cell_type": "code",
   "execution_count": null,
   "id": "65faca15",
   "metadata": {},
   "outputs": [],
   "source": []
  },
  {
   "cell_type": "code",
   "execution_count": null,
   "id": "2019887b",
   "metadata": {},
   "outputs": [],
   "source": []
  },
  {
   "cell_type": "code",
   "execution_count": null,
   "id": "c93b4750",
   "metadata": {},
   "outputs": [],
   "source": []
  },
  {
   "cell_type": "code",
   "execution_count": null,
   "id": "b4c65d96",
   "metadata": {},
   "outputs": [],
   "source": []
  },
  {
   "cell_type": "code",
   "execution_count": null,
   "id": "c0b2c503",
   "metadata": {},
   "outputs": [],
   "source": []
  },
  {
   "cell_type": "code",
   "execution_count": null,
   "id": "06c55f79",
   "metadata": {},
   "outputs": [],
   "source": []
  },
  {
   "cell_type": "code",
   "execution_count": null,
   "id": "53cd5f41",
   "metadata": {},
   "outputs": [],
   "source": []
  },
  {
   "cell_type": "code",
   "execution_count": null,
   "id": "e2e7158d",
   "metadata": {},
   "outputs": [],
   "source": []
  }
 ],
 "metadata": {
  "kernelspec": {
   "display_name": "Python 3",
   "language": "python",
   "name": "python3"
  },
  "language_info": {
   "codemirror_mode": {
    "name": "ipython",
    "version": 3
   },
   "file_extension": ".py",
   "mimetype": "text/x-python",
   "name": "python",
   "nbconvert_exporter": "python",
   "pygments_lexer": "ipython3",
   "version": "3.8.8"
  }
 },
 "nbformat": 4,
 "nbformat_minor": 5
}
