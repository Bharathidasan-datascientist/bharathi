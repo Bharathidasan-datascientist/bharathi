{
  "nbformat": 4,
  "nbformat_minor": 0,
  "metadata": {
    "colab": {
      "name": "NLTK_Basics.ipynb",
      "provenance": [],
      "collapsed_sections": [],
      "authorship_tag": "ABX9TyNSP01tIZ8+X4IWLTRATVDY",
      "include_colab_link": true
    },
    "kernelspec": {
      "name": "python3",
      "display_name": "Python 3"
    },
    "language_info": {
      "name": "python"
    }
  },
  "cells": [
    {
      "cell_type": "markdown",
      "metadata": {
        "id": "view-in-github",
        "colab_type": "text"
      },
      "source": [
        "<a href=\"https://colab.research.google.com/github/Bharathidasan-datascientist/bharathi/blob/master/NLTK_Basics.ipynb\" target=\"_parent\"><img src=\"https://colab.research.google.com/assets/colab-badge.svg\" alt=\"Open In Colab\"/></a>"
      ]
    },
    {
      "cell_type": "code",
      "metadata": {
        "id": "PtWLfDLOSsw-"
      },
      "source": [
        "import keras as ks\n",
        "import tensorflow as tf\n",
        "import numpy as np\n",
        "import pandas as pd\n",
        "import nltk"
      ],
      "execution_count": 8,
      "outputs": []
    },
    {
      "cell_type": "code",
      "metadata": {
        "colab": {
          "base_uri": "https://localhost:8080/"
        },
        "id": "E0KA0wQkVnMK",
        "outputId": "78d064e4-a006-40b5-8507-9d8e4bdad4dd"
      },
      "source": [
        "from nltk.tokenize import sent_tokenize,word_tokenize\n",
        "nltk.download('punkt')\n",
        "nltk.download('wordnet')"
      ],
      "execution_count": 26,
      "outputs": [
        {
          "output_type": "stream",
          "text": [
            "[nltk_data] Downloading package punkt to /root/nltk_data...\n",
            "[nltk_data]   Package punkt is already up-to-date!\n",
            "[nltk_data] Downloading package wordnet to /root/nltk_data...\n",
            "[nltk_data]   Unzipping corpora/wordnet.zip.\n"
          ],
          "name": "stdout"
        },
        {
          "output_type": "execute_result",
          "data": {
            "text/plain": [
              "True"
            ]
          },
          "metadata": {
            "tags": []
          },
          "execution_count": 26
        }
      ]
    },
    {
      "cell_type": "code",
      "metadata": {
        "colab": {
          "base_uri": "https://localhost:8080/"
        },
        "id": "b3qow7SiV5Vm",
        "outputId": "67ff39b3-3ef0-4499-bf0b-6f614c3504e4"
      },
      "source": [
        "example_text=(\"Diwali is one of the important hindu festival in India.The day celebrates triumph over evil.People lights lamp and burst crackers to celebrate diwali.\")\n",
        "print(sent_tokenize(example_text))              "
      ],
      "execution_count": 11,
      "outputs": [
        {
          "output_type": "stream",
          "text": [
            "['Diwali is one of the important hindu festival in India.The day celebrates triumph over evil.People lights lamp and burst crackers to celebrate diwali.']\n"
          ],
          "name": "stdout"
        }
      ]
    },
    {
      "cell_type": "code",
      "metadata": {
        "colab": {
          "base_uri": "https://localhost:8080/"
        },
        "id": "jeHibygVWzPW",
        "outputId": "711906f7-046f-41df-ddc7-59ef9574ffe5"
      },
      "source": [
        "text=sent_tokenize(example_text)\n",
        "for i in text:\n",
        "  out=word_tokenize(i)\n",
        "print(out)"
      ],
      "execution_count": 13,
      "outputs": [
        {
          "output_type": "stream",
          "text": [
            "['Diwali', 'is', 'one', 'of', 'the', 'important', 'hindu', 'festival', 'in', 'India.The', 'day', 'celebrates', 'triumph', 'over', 'evil.People', 'lights', 'lamp', 'and', 'burst', 'crackers', 'to', 'celebrate', 'diwali', '.']\n"
          ],
          "name": "stdout"
        }
      ]
    },
    {
      "cell_type": "code",
      "metadata": {
        "id": "uxwZV2pmYveJ"
      },
      "source": [
        "###Stemming###"
      ],
      "execution_count": 14,
      "outputs": []
    },
    {
      "cell_type": "code",
      "metadata": {
        "colab": {
          "base_uri": "https://localhost:8080/"
        },
        "id": "AxjLdIO1ZGlA",
        "outputId": "68edb42a-6fb9-4c60-8a27-786cffcea24a"
      },
      "source": [
        "from nltk.stem.porter import PorterStemmer\n",
        "stem=PorterStemmer()\n",
        "word=\"Intelligently\"\n",
        "stem_word=stem.stem(word)\n",
        "print(stem_word)"
      ],
      "execution_count": 22,
      "outputs": [
        {
          "output_type": "stream",
          "text": [
            "intellig\n"
          ],
          "name": "stdout"
        }
      ]
    },
    {
      "cell_type": "code",
      "metadata": {
        "id": "QpKXKuG0Z79q"
      },
      "source": [
        "##Lemmatization##"
      ],
      "execution_count": 23,
      "outputs": []
    },
    {
      "cell_type": "code",
      "metadata": {
        "colab": {
          "base_uri": "https://localhost:8080/"
        },
        "id": "vrUqqL4-ard1",
        "outputId": "55e44a77-eceb-4093-a736-c6d7aaffb628"
      },
      "source": [
        "from nltk.stem.wordnet import WordNetLemmatizer\n",
        "lem=WordNetLemmatizer()\n",
        "word=\"Intelligently\"\n",
        "Stem1_word=lem.lemmatize(word,\"v\")\n",
        "print(Stem1_word)"
      ],
      "execution_count": 28,
      "outputs": [
        {
          "output_type": "stream",
          "text": [
            "Intelligently\n"
          ],
          "name": "stdout"
        }
      ]
    },
    {
      "cell_type": "code",
      "metadata": {
        "id": "dHD9IG0tcMVJ"
      },
      "source": [
        ""
      ],
      "execution_count": null,
      "outputs": []
    }
  ]
}